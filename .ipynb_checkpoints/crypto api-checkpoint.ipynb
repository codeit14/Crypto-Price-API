{
 "cells": [
  {
   "cell_type": "code",
   "execution_count": null,
   "metadata": {},
   "outputs": [],
   "source": [
    "import bs4 as bs\n",
    "import urllib.request\n",
    "from pymongo import MongoClient\n",
    "from flask import Flask, request, jsonify\n",
    "\n",
    "app = Flask(__name__)\n"
   ]
  },
  {
   "cell_type": "code",
   "execution_count": null,
   "metadata": {},
   "outputs": [],
   "source": [
    "def clean(inp):\n",
    "    numbers = -10000\n",
    "    if '$' in inp:\n",
    "        inp = inp.strip('').split('$')[1]\n",
    "    if ',' in inp:\n",
    "        numbers = inp.strip('').split(',')\n",
    "    if '?' in inp or inp == 'Low Vol':\n",
    "        return numbers\n",
    "    if(type(numbers) is int):\n",
    "        return float(inp)\n",
    "    else:\n",
    "        new_inp = ''\n",
    "        for number in numbers:\n",
    "            new_inp += number\n",
    "        return int(new_inp)    "
   ]
  },
  {
   "cell_type": "code",
   "execution_count": null,
   "metadata": {},
   "outputs": [],
   "source": [
    "def extract_features():\n",
    "    links = html_code.findAll('a')\n",
    "    td_tags = html_code.findAll('td')\n",
    "    curr_name = []\n",
    "    for link in links:\n",
    "        if(link.has_attr(\"class\")):\n",
    "            if(\"currency-name-container\" in link[\"class\"]):\n",
    "                curr_name.append(link.contents[0])\n",
    "    market_cap = []\n",
    "    for tag in td_tags:\n",
    "        if(tag.has_attr(\"class\")):\n",
    "            if(\"market-cap\" in tag[\"class\"]):\n",
    "                market_cap.append(tag.contents[0].strip(' ').split('\\n')[1])   \n",
    "    prices = []\n",
    "    for link in links:\n",
    "        if(link.has_attr(\"class\")):\n",
    "            if(\"price\" in link[\"class\"]):\n",
    "                prices.append(link.contents[0])\n",
    "\n",
    "    circ_supply = []\n",
    "    mineable = []\n",
    "    for tag in td_tags:\n",
    "        if(tag.has_attr(\"class\")):\n",
    "            if(\"circulating-supply\" in tag[\"class\"]):\n",
    "                child = tag.findChildren()\n",
    "                mineable.append(True if '*' in tag.contents[-1] else False)\n",
    "                if('\\n' in child[0].contents[0]):\n",
    "                    circ_supply.append(child[0].contents[0].split('\\n')[1])\n",
    "                else:\n",
    "                    circ_supply.append(child[0].contents[0])\n",
    "    volume = []\n",
    "    for link in links:\n",
    "        if(link.has_attr(\"class\")):\n",
    "            if(\"volume\" in link[\"class\"]):\n",
    "                volume.append(link.contents[0])\n",
    "\n",
    "    new_market_cap = [clean(i) for i in market_cap]\n",
    "    new_prices = [clean(i) for i in prices]\n",
    "    new_circ_supply = [clean(i) for i in circ_supply]\n",
    "    new_volume = [clean(i) for i in volume]                                   \n",
    "\n",
    "    headers = ['Currency_Name', 'Market-Capital', 'Price', 'Circulating Supply', 'Mineable', 'Volume']\n",
    "    entries = []\n",
    "    for entry in len(curr_name):\n",
    "        dct = {}\n",
    "        dct[headers[0]] = curr_name[entry]\n",
    "        dct[headers[1]] = new_market_cap[entry]\n",
    "        dct[headers[2]] = new_prices[entry]\n",
    "        dct[headers[3]] = new_circ_supply[entry]\n",
    "        dct[headers[4]] = mineable[entry]\n",
    "        dct[headers[5]] = new_volume[entry]   \n",
    "        entries.append(dct)\n",
    "    return entries                  "
   ]
  },
  {
   "cell_type": "code",
   "execution_count": null,
   "metadata": {},
   "outputs": [],
   "source": [
    "@app.route('/',methods=['GET'])\n",
    "def hello():\n",
    "return jsonify({'hello':'world'})"
   ]
  },
  {
   "cell_type": "code",
   "execution_count": null,
   "metadata": {},
   "outputs": [],
   "source": [
    "@app.route('/download', methods = ['GET'])\n",
    "def download():\n",
    "    category = request.args.get('category', 'all')\n",
    "    url_opener = urllib.request.urlopen('https://coinmarketcap.com/' + category + '/views/all/')   #replace coins with all or tokens(tokens also contain an extar field called platform)\n",
    "    html_code = bs.BeautifulSoup(url_opener,'lxml')   \n",
    "    return jsonify({\"extracted\" : \"done\"}), 200"
   ]
  },
  {
   "cell_type": "code",
   "execution_count": null,
   "metadata": {},
   "outputs": [],
   "source": [
    "if __name__ == '__main__':\n",
    "    app.run(port = 5000)"
   ]
  },
  {
   "cell_type": "code",
   "execution_count": null,
   "metadata": {},
   "outputs": [],
   "source": []
  },
  {
   "cell_type": "code",
   "execution_count": null,
   "metadata": {},
   "outputs": [],
   "source": []
  },
  {
   "cell_type": "code",
   "execution_count": null,
   "metadata": {},
   "outputs": [],
   "source": []
  },
  {
   "cell_type": "code",
   "execution_count": null,
   "metadata": {},
   "outputs": [],
   "source": []
  },
  {
   "cell_type": "code",
   "execution_count": null,
   "metadata": {},
   "outputs": [],
   "source": []
  },
  {
   "cell_type": "code",
   "execution_count": null,
   "metadata": {
    "scrolled": false
   },
   "outputs": [],
   "source": []
  },
  {
   "cell_type": "code",
   "execution_count": null,
   "metadata": {},
   "outputs": [],
   "source": []
  },
  {
   "cell_type": "code",
   "execution_count": null,
   "metadata": {},
   "outputs": [],
   "source": []
  }
 ],
 "metadata": {
  "kernelspec": {
   "display_name": "Python 3",
   "language": "python",
   "name": "python3"
  },
  "language_info": {
   "codemirror_mode": {
    "name": "ipython",
    "version": 3
   },
   "file_extension": ".py",
   "mimetype": "text/x-python",
   "name": "python",
   "nbconvert_exporter": "python",
   "pygments_lexer": "ipython3",
   "version": "3.6.3"
  }
 },
 "nbformat": 4,
 "nbformat_minor": 2
}
