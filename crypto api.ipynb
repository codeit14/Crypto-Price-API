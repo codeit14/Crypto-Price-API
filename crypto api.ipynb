{
 "cells": [
  {
   "cell_type": "code",
   "execution_count": 1,
   "metadata": {},
   "outputs": [],
   "source": [
    "import bs4 as bs\n",
    "import urllib.request\n",
    "from pymongo import MongoClient\n",
    "from flask import Flask, request, jsonify\n",
    "import pprint\n",
    "app = Flask(__name__)\n"
   ]
  },
  {
   "cell_type": "code",
   "execution_count": 2,
   "metadata": {},
   "outputs": [],
   "source": [
    "client = MongoClient('localhost', 27017)\n",
    "db = client.test_database"
   ]
  },
  {
   "cell_type": "code",
   "execution_count": 3,
   "metadata": {},
   "outputs": [],
   "source": [
    "def clean(inp):\n",
    "    numbers = -10000\n",
    "    if '$' in inp:\n",
    "        inp = inp.strip('').split('$')[1]\n",
    "    if ',' in inp:\n",
    "        numbers = inp.strip('').split(',')\n",
    "    if '?' in inp or inp == 'Low Vol':\n",
    "        return numbers\n",
    "    if(type(numbers) is int):\n",
    "        return float(inp)\n",
    "    else:\n",
    "        new_inp = ''\n",
    "        for number in numbers:\n",
    "            new_inp += number\n",
    "        return int(new_inp)    "
   ]
  },
  {
   "cell_type": "code",
   "execution_count": 5,
   "metadata": {},
   "outputs": [],
   "source": [
    "def extract_features(category):\n",
    "    url_opener = urllib.request.urlopen('https://coinmarketcap.com/' + category + '/views/all/')   #replace coins with all or tokens(tokens also contain an extar field called platform)\n",
    "    html_code = bs.BeautifulSoup(url_opener,'lxml')\n",
    "    links = html_code.findAll('a')\n",
    "    td_tags = html_code.findAll('td')\n",
    "    curr_name = []\n",
    "    for link in links:\n",
    "        if(link.has_attr(\"class\")):\n",
    "            if(\"currency-name-container\" in link[\"class\"]):\n",
    "                curr_name.append(link.contents[0])\n",
    "    market_cap = []\n",
    "    for tag in td_tags:\n",
    "        if(tag.has_attr(\"class\")):\n",
    "            if(\"market-cap\" in tag[\"class\"]):\n",
    "                market_cap.append(tag.contents[0].strip(' ').split('\\n')[1])   \n",
    "    prices = []\n",
    "    for link in links:\n",
    "        if(link.has_attr(\"class\")):\n",
    "            if(\"price\" in link[\"class\"]):\n",
    "                prices.append(link.contents[0])\n",
    "\n",
    "    circ_supply = []\n",
    "    mineable = []\n",
    "    for tag in td_tags:\n",
    "        if(tag.has_attr(\"class\")):\n",
    "            if(\"circulating-supply\" in tag[\"class\"]):\n",
    "                child = tag.findChildren()\n",
    "                mineable.append(True if '*' in tag.contents[-1] else False)\n",
    "                if('\\n' in child[0].contents[0]):\n",
    "                    circ_supply.append(child[0].contents[0].split('\\n')[1])\n",
    "                else:\n",
    "                    circ_supply.append(child[0].contents[0])\n",
    "    volume = []\n",
    "    for link in links:\n",
    "        if(link.has_attr(\"class\")):\n",
    "            if(\"volume\" in link[\"class\"]):\n",
    "                volume.append(link.contents[0])\n",
    "\n",
    "    new_market_cap = [clean(i) for i in market_cap]\n",
    "    new_prices = [clean(i) for i in prices]\n",
    "    new_circ_supply = [clean(i) for i in circ_supply]\n",
    "    new_volume = [clean(i) for i in volume]                                   \n",
    "\n",
    "    headers = ['Currency_Name', 'Market-Capital', 'Price', 'Circulating Supply', 'Mineable', 'Volume']\n",
    "    entries = []\n",
    "    for entry in range(len(curr_name)):\n",
    "        dct = {}\n",
    "        dct[headers[0]] = curr_name[entry]\n",
    "        dct[headers[1]] = new_market_cap[entry]\n",
    "        dct[headers[2]] = new_prices[entry]\n",
    "        dct[headers[3]] = new_circ_supply[entry]\n",
    "        dct[headers[4]] = mineable[entry]\n",
    "        dct[headers[5]] = new_volume[entry]   \n",
    "        entries.append(dct)\n",
    "    return entries                  "
   ]
  },
  {
   "cell_type": "code",
   "execution_count": 6,
   "metadata": {},
   "outputs": [],
   "source": [
    "@app.route('/',methods=['GET'])\n",
    "def hello():\n",
    "    return jsonify({'hello':'world'})"
   ]
  },
  {
   "cell_type": "code",
   "execution_count": 7,
   "metadata": {},
   "outputs": [],
   "source": [
    "@app.route('/download', methods = ['GET'])\n",
    "def download():\n",
    "    category = request.args.get('category', 'all')\n",
    "    entries = extract_features(category)\n",
    "    db.crypto.insert_many(entries)\n",
    "    return jsonify({\"extracted\" : \"done\"}), 200"
   ]
  },
  {
   "cell_type": "code",
   "execution_count": 8,
   "metadata": {},
   "outputs": [],
   "source": [
    "@app.route('/show', methods = ['GET'])\n",
    "def show():\n",
    "    entries = db.crypto.find()\n",
    "    c = 0\n",
    "    for entry in entries:\n",
    "        c += 1\n",
    "        if(c == 10):\n",
    "            return jsonify({\"entries\" : \"shown\"})\n",
    "        pprint.pprint(entry)\n",
    "    return jsonify({\"entries\" : \"shown\"})    "
   ]
  },
  {
   "cell_type": "code",
   "execution_count": null,
   "metadata": {},
   "outputs": [
    {
     "name": "stderr",
     "output_type": "stream",
     "text": [
      " * Running on http://127.0.0.1:5000/ (Press CTRL+C to quit)\n",
      "127.0.0.1 - - [11/Jun/2018 14:54:59] \"GET /show HTTP/1.1\" 200 -\n"
     ]
    },
    {
     "name": "stdout",
     "output_type": "stream",
     "text": [
      "{'Circulating Supply': 17087075,\n",
      " 'Currency_Name': 'Bitcoin',\n",
      " 'Market-Capital': 116450466574,\n",
      " 'Mineable': False,\n",
      " 'Price': 6815.12,\n",
      " 'Volume': 5764220000,\n",
      " '_id': ObjectId('5b1e3f5a50e51018ac83807d')}\n",
      "{'Circulating Supply': 100004196,\n",
      " 'Currency_Name': 'Ethereum',\n",
      " 'Market-Capital': 53432241789,\n",
      " 'Mineable': False,\n",
      " 'Price': 534.3,\n",
      " 'Volume': 2287810000,\n",
      " '_id': ObjectId('5b1e3f5a50e51018ac83807e')}\n",
      "{'Circulating Supply': 39244312603,\n",
      " 'Currency_Name': 'Ripple',\n",
      " 'Market-Capital': 22916559367,\n",
      " 'Mineable': True,\n",
      " 'Price': 0.583946,\n",
      " 'Volume': 491792000,\n",
      " '_id': ObjectId('5b1e3f5a50e51018ac83807f')}\n",
      "{'Circulating Supply': 17177400,\n",
      " 'Currency_Name': 'Bitcoin Cash',\n",
      " 'Market-Capital': 16172848471,\n",
      " 'Mineable': False,\n",
      " 'Price': 941.52,\n",
      " 'Volume': 779455000,\n",
      " '_id': ObjectId('5b1e3f5a50e51018ac838080')}\n",
      "{'Circulating Supply': 896149492,\n",
      " 'Currency_Name': 'EOS',\n",
      " 'Market-Capital': 10082577936,\n",
      " 'Mineable': True,\n",
      " 'Price': 11.25,\n",
      " 'Volume': 2468430000,\n",
      " '_id': ObjectId('5b1e3f5a50e51018ac838081')}\n",
      "{'Circulating Supply': 56931398,\n",
      " 'Currency_Name': 'Litecoin',\n",
      " 'Market-Capital': 6116026235,\n",
      " 'Mineable': False,\n",
      " 'Price': 107.43,\n",
      " 'Volume': 399736000,\n",
      " '_id': ObjectId('5b1e3f5a50e51018ac838082')}\n",
      "{'Circulating Supply': 18603512837,\n",
      " 'Currency_Name': 'Stellar',\n",
      " 'Market-Capital': 4688568926,\n",
      " 'Mineable': True,\n",
      " 'Price': 0.252026,\n",
      " 'Volume': 53470700,\n",
      " '_id': ObjectId('5b1e3f5a50e51018ac838083')}\n",
      "{'Circulating Supply': 25927070538,\n",
      " 'Currency_Name': 'Cardano',\n",
      " 'Market-Capital': 4561531009,\n",
      " 'Mineable': True,\n",
      " 'Price': 0.175937,\n",
      " 'Volume': 129214000,\n",
      " '_id': ObjectId('5b1e3f5a50e51018ac838084')}\n",
      "{'Circulating Supply': 2779530283,\n",
      " 'Currency_Name': 'IOTA',\n",
      " 'Market-Capital': 3862129533,\n",
      " 'Mineable': True,\n",
      " 'Price': 1.39,\n",
      " 'Volume': 106513000,\n",
      " '_id': ObjectId('5b1e3f5a50e51018ac838085')}\n"
     ]
    }
   ],
   "source": [
    "if __name__ == '__main__':\n",
    "    app.run(port = 5000)"
   ]
  },
  {
   "cell_type": "code",
   "execution_count": null,
   "metadata": {},
   "outputs": [],
   "source": []
  },
  {
   "cell_type": "code",
   "execution_count": null,
   "metadata": {},
   "outputs": [],
   "source": []
  },
  {
   "cell_type": "code",
   "execution_count": null,
   "metadata": {},
   "outputs": [],
   "source": []
  },
  {
   "cell_type": "code",
   "execution_count": null,
   "metadata": {},
   "outputs": [],
   "source": []
  },
  {
   "cell_type": "code",
   "execution_count": null,
   "metadata": {},
   "outputs": [],
   "source": []
  },
  {
   "cell_type": "code",
   "execution_count": null,
   "metadata": {
    "scrolled": false
   },
   "outputs": [],
   "source": []
  },
  {
   "cell_type": "code",
   "execution_count": null,
   "metadata": {},
   "outputs": [],
   "source": []
  },
  {
   "cell_type": "code",
   "execution_count": null,
   "metadata": {},
   "outputs": [],
   "source": []
  }
 ],
 "metadata": {
  "kernelspec": {
   "display_name": "Python 3",
   "language": "python",
   "name": "python3"
  },
  "language_info": {
   "codemirror_mode": {
    "name": "ipython",
    "version": 3
   },
   "file_extension": ".py",
   "mimetype": "text/x-python",
   "name": "python",
   "nbconvert_exporter": "python",
   "pygments_lexer": "ipython3",
   "version": "3.6.3"
  }
 },
 "nbformat": 4,
 "nbformat_minor": 2
}
