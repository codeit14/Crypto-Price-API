{
 "cells": [
  {
   "cell_type": "code",
   "execution_count": 173,
   "metadata": {},
   "outputs": [],
   "source": [
    "import bs4 as bs\n",
    "import urllib.request\n",
    "from pymongo import MongoClient\n",
    "\n",
    "sauce = urllib.request.urlopen('https://coinmarketcap.com/coins/views/all/')   #replace coins with all or tokens(tokens also contain an extar field called platform)\n",
    "soup = bs.BeautifulSoup(sauce,'lxml')"
   ]
  },
  {
   "cell_type": "code",
   "execution_count": null,
   "metadata": {},
   "outputs": [],
   "source": []
  },
  {
   "cell_type": "code",
   "execution_count": 174,
   "metadata": {},
   "outputs": [],
   "source": [
    "table = soup.findAll('a')\n",
    "#class=\"currency-name-container link-secondary\""
   ]
  },
  {
   "cell_type": "code",
   "execution_count": 175,
   "metadata": {},
   "outputs": [],
   "source": [
    "l = []\n",
    "for i in table:\n",
    "    if(i.has_attr(\"class\")):\n",
    "        if(\"currency-name-container\" in i[\"class\"]):\n",
    "            l.append(i.contents)\n",
    "            "
   ]
  },
  {
   "cell_type": "code",
   "execution_count": 176,
   "metadata": {},
   "outputs": [],
   "source": [
    "td_tags = soup.findAll('td')"
   ]
  },
  {
   "cell_type": "code",
   "execution_count": 177,
   "metadata": {},
   "outputs": [],
   "source": [
    "market_cap = []\n",
    "for i in td_tags:\n",
    "    if(i.has_attr(\"class\")):\n",
    "        if(\"market-cap\" in i[\"class\"]):\n",
    "            market_cap.append(i.contents[0].strip(' ').split('\\n')[1])"
   ]
  },
  {
   "cell_type": "code",
   "execution_count": 178,
   "metadata": {},
   "outputs": [],
   "source": [
    "prices = []\n",
    "for i in table:\n",
    "    if(i.has_attr(\"class\")):\n",
    "        if(\"price\" in i[\"class\"]):\n",
    "            prices.append(i.contents[0])\n",
    "            "
   ]
  },
  {
   "cell_type": "code",
   "execution_count": 179,
   "metadata": {},
   "outputs": [],
   "source": [
    "circ_supply = []\n",
    "mineable = []\n",
    "for i in td_tags:\n",
    "    if(i.has_attr(\"class\")):\n",
    "        if(\"circulating-supply\" in i[\"class\"]):\n",
    "            x = i.findChildren()\n",
    "            mineable.append(True if '*' in i.contents[-1] else False)\n",
    "            if('\\n' in x[0].contents[0]):\n",
    "                circ_supply.append(x[0].contents[0].split('\\n')[1])\n",
    "            else:\n",
    "                circ_supply.append(x[0].contents[0])"
   ]
  },
  {
   "cell_type": "code",
   "execution_count": 180,
   "metadata": {},
   "outputs": [],
   "source": [
    "volume = []\n",
    "for i in table:\n",
    "    if(i.has_attr(\"class\")):\n",
    "        if(\"volume\" in i[\"class\"]):\n",
    "            volume.append(i.contents[0])\n",
    "            "
   ]
  },
  {
   "cell_type": "code",
   "execution_count": 181,
   "metadata": {},
   "outputs": [],
   "source": []
  },
  {
   "cell_type": "code",
   "execution_count": null,
   "metadata": {},
   "outputs": [],
   "source": []
  },
  {
   "cell_type": "code",
   "execution_count": null,
   "metadata": {},
   "outputs": [],
   "source": []
  }
 ],
 "metadata": {
  "kernelspec": {
   "display_name": "Python 3",
   "language": "python",
   "name": "python3"
  },
  "language_info": {
   "codemirror_mode": {
    "name": "ipython",
    "version": 3
   },
   "file_extension": ".py",
   "mimetype": "text/x-python",
   "name": "python",
   "nbconvert_exporter": "python",
   "pygments_lexer": "ipython3",
   "version": "3.6.3"
  }
 },
 "nbformat": 4,
 "nbformat_minor": 2
}
